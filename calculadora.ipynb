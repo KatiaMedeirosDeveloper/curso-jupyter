{
 "cells": [
  {
   "cell_type": "markdown",
   "id": "fef13a4c-1648-40ba-82fb-3606e8329c41",
   "metadata": {},
   "source": [
    "#CALCULADORA "
   ]
  },
  {
   "cell_type": "code",
   "execution_count": 3,
   "id": "d5eb1f6d-8052-407d-a711-03053851bee4",
   "metadata": {},
   "outputs": [
    {
     "data": {
      "application/vnd.jupyter.widget-view+json": {
       "model_id": "f185c7425c0a4eaa949aa0c572f25d25",
       "version_major": 2,
       "version_minor": 0
      },
      "text/plain": [
       "Label(value='0')"
      ]
     },
     "metadata": {},
     "output_type": "display_data"
    },
    {
     "data": {
      "application/vnd.jupyter.widget-view+json": {
       "model_id": "4f59456ab9204395b418ebec0db4a51e",
       "version_major": 2,
       "version_minor": 0
      },
      "text/plain": [
       "HBox(children=(Button(description='+', style=ButtonStyle()), Button(description='7', style=ButtonStyle()), But…"
      ]
     },
     "metadata": {},
     "output_type": "display_data"
    },
    {
     "data": {
      "application/vnd.jupyter.widget-view+json": {
       "model_id": "4480dce8767d4f8b9bb1e078fe876346",
       "version_major": 2,
       "version_minor": 0
      },
      "text/plain": [
       "HBox(children=(Button(description='-', style=ButtonStyle()), Button(description='4', style=ButtonStyle()), But…"
      ]
     },
     "metadata": {},
     "output_type": "display_data"
    },
    {
     "data": {
      "application/vnd.jupyter.widget-view+json": {
       "model_id": "e83399e4724f4286b8e9570acfed35a2",
       "version_major": 2,
       "version_minor": 0
      },
      "text/plain": [
       "HBox(children=(Button(description='*', style=ButtonStyle()), Button(description='1', style=ButtonStyle()), But…"
      ]
     },
     "metadata": {},
     "output_type": "display_data"
    },
    {
     "data": {
      "application/vnd.jupyter.widget-view+json": {
       "model_id": "709cdd650e81493b880010e54a01bb5e",
       "version_major": 2,
       "version_minor": 0
      },
      "text/plain": [
       "HBox(children=(Button(description='/', style=ButtonStyle()), Button(description='0', style=ButtonStyle()), But…"
      ]
     },
     "metadata": {},
     "output_type": "display_data"
    }
   ],
   "source": [
    "from ipywidgets import widgets\n",
    "\n",
    "STR_CALC = \"\"\n",
    "\n",
    "label_result = widgets.Label(\"0\")\n",
    "STR_CALC = \"0\"\n",
    "\n",
    "#Botões de numero\n",
    "\n",
    "btn0 = widgets.Button(description = \"0\")\n",
    "btn1 = widgets.Button(description = \"1\")\n",
    "btn2 = widgets.Button(description = \"2\")\n",
    "btn3 = widgets.Button(description = \"3\")\n",
    "btn4 = widgets.Button(description = \"4\")\n",
    "btn5 = widgets.Button(description = \"5\")\n",
    "btn6 = widgets.Button(description = \"6\")\n",
    "btn7 = widgets.Button(description = \"7\")\n",
    "btn8 = widgets.Button(description = \"8\")\n",
    "btn9 = widgets.Button(description = \"9\")\n",
    "\n",
    "\n",
    "# Botões de operação\n",
    "\n",
    "btn_add = widgets.Button(description = \"+\")\n",
    "btn_sub = widgets.Button(description = \"-\")\n",
    "btn_mul = widgets.Button(description = \"*\")\n",
    "btn_div = widgets.Button(description = \"/\")\n",
    "\n",
    "#Botão de igual\n",
    "\n",
    "btn_result = widgets.Button(description = \"=\")\n",
    "\n",
    "# Botão de limpar\n",
    "\n",
    "btn_limpar = widgets.Button(description = \"Limpar\")\n",
    "\n",
    "def mostra_resultado(resultado):\n",
    "    label_result.value = resultado\n",
    "\n",
    "def concatena_memoria(valor):\n",
    "    global STR_CALC\n",
    "    STR_CALC = STR_CALC + str(valor)\n",
    "    print(STR_CALC)\n",
    "\n",
    "def concatena_label(numero):\n",
    "    global STR_CALC\n",
    "    if label_result.value == \"0\":\n",
    "       label_result.value = \"\";\n",
    "       \n",
    "    label_result.value = label_result.value + numero\n",
    "    STR_CALC = STR_CALC + numero\n",
    "\n",
    "def limpar_memoria():\n",
    "    global STR_CALC\n",
    "    STR_CALC = \"0\"\n",
    "    \n",
    "\n",
    "def limpar_label():\n",
    "    label_result.value = \"0\"\n",
    "\n",
    "\n",
    "def obtem_operacao():\n",
    "    global STR_CALC\n",
    "    if \"+\" in STR_CALC:\n",
    "        return \"+\"\n",
    "    if \"-\" in STR_CALC:\n",
    "        return \"-\"\n",
    "    if \"*\" in STR_CALC:\n",
    "        return \"*\"\n",
    "    if \"/\" in STR_CALC:\n",
    "        return \"/\"\n",
    "\n",
    "\n",
    "def obtem_objeto_operac():\n",
    "    global STR_CALC\n",
    "    operacao = obtem_operacao()\n",
    "    base_ob_operac = []\n",
    "    base_ob_operac = STR_CALC.split(operacao)\n",
    "    base_ob_operac.append(operacao)\n",
    "    return base_ob_operac\n",
    "\n",
    "def calcula_resultado(numero1, numero2, operacao ):\n",
    "\n",
    "    if numero2 == 0:\n",
    "        return None\n",
    "         \n",
    "    if operacao == \"+\":\n",
    "        return numero1 + numero2\n",
    "    if operacao == \"-\":\n",
    "        return numero1 - numero2\n",
    "    if operacao == \"*\":\n",
    "        return numero1 * numero2\n",
    "    if operacao == \"/\":\n",
    "        return numero1 / numero2\n",
    "\n",
    "def handle_click(button):\n",
    "    global STR_CALC\n",
    "    value = button.description\n",
    "\n",
    "    if value == \"=\":\n",
    "        objeto_operac = obtem_objeto_operac()\n",
    "        numero1 = objeto_operac[0]\n",
    "        numero2 = objeto_operac[1]\n",
    "        operacao = objeto_operac[2]\n",
    "\n",
    "    \n",
    "        resultado = calcula_resultado(float(numero1), float(numero2), operacao)\n",
    "        if resultado == None:\n",
    "           STR_CALC = str(numero1)\n",
    "           label_result.value = \"Erro na operação\"\n",
    "            \n",
    "        else:\n",
    "            STR_CALC = resultado\n",
    "            label_result.value = str(resultado)\n",
    "        return None\n",
    "        \n",
    "    is_operac = (value == \"+\" or value == \"-\" or value == \"*\" or value == \"/\")\n",
    "    if is_operac:\n",
    "         return concatena_memoria(value), limpar_label()\n",
    "         \n",
    "    if value == \"Limpar\":\n",
    "        return limpar_memoria(), limpar_label()\n",
    "    concatena_label(value)\n",
    "    concatena_memoria(value)\n",
    "    mostra_resultado(label_result.value)\n",
    "    \n",
    "\n",
    "# Ações de clique\n",
    "\n",
    "btn0.on_click(handle_click)\n",
    "btn1.on_click(handle_click)\n",
    "btn2.on_click(handle_click)\n",
    "btn3.on_click(handle_click)\n",
    "btn4.on_click(handle_click)\n",
    "btn5.on_click(handle_click)\n",
    "btn6.on_click(handle_click)\n",
    "btn7.on_click(handle_click)\n",
    "btn8.on_click(handle_click)\n",
    "btn9.on_click(handle_click)\n",
    "\n",
    "btn_add.on_click(handle_click)\n",
    "btn_sub.on_click(handle_click)\n",
    "btn_mul.on_click(handle_click)\n",
    "btn_div.on_click(handle_click)\n",
    "\n",
    "btn_result.on_click(handle_click)\n",
    "\n",
    "btn_limpar.on_click(handle_click)\n",
    "\n",
    "# Organização dos botões em tela\n",
    "btns_primeira_linha = widgets.HBox([btn_add, btn7, btn8, btn9])\n",
    "btns_segunda_linha = widgets.HBox([btn_sub, btn4, btn5, btn6])\n",
    "btns_terceira_linha = widgets.HBox([btn_mul, btn1, btn2, btn3])\n",
    "btns_quarta_linha = widgets.HBox([btn_div, btn0, btn_result, btn_limpar])\n",
    "\n",
    "#Comandos de display em tela\n",
    "\n",
    "display(label_result)\n",
    "\n",
    "\n",
    "display(\n",
    "    btns_primeira_linha,\n",
    "    btns_segunda_linha,\n",
    "    btns_terceira_linha,\n",
    "    btns_quarta_linha\n",
    ")\n",
    "\n"
   ]
  },
  {
   "cell_type": "code",
   "execution_count": null,
   "id": "df391351-2257-4652-91c8-0b3263954126",
   "metadata": {},
   "outputs": [],
   "source": []
  }
 ],
 "metadata": {
  "kernelspec": {
   "display_name": "Python 3 (ipykernel)",
   "language": "python",
   "name": "python3"
  },
  "language_info": {
   "codemirror_mode": {
    "name": "ipython",
    "version": 3
   },
   "file_extension": ".py",
   "mimetype": "text/x-python",
   "name": "python",
   "nbconvert_exporter": "python",
   "pygments_lexer": "ipython3",
   "version": "3.12.1"
  }
 },
 "nbformat": 4,
 "nbformat_minor": 5
}
